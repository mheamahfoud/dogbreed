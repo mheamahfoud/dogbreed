{
  "nbformat": 4,
  "nbformat_minor": 0,
  "metadata": {
    "colab": {
      "provenance": [],
      "authorship_tag": "ABX9TyNCy4n6aEdqI2hcdOW8DzSq",
      "include_colab_link": true
    },
    "kernelspec": {
      "name": "python3",
      "display_name": "Python 3"
    },
    "language_info": {
      "name": "python"
    }
  },
  "cells": [
    {
      "cell_type": "markdown",
      "metadata": {
        "id": "view-in-github",
        "colab_type": "text"
      },
      "source": [
        "<a href=\"https://colab.research.google.com/github/mheamahfoud/dogbreed/blob/main/Time_Faster_with_Pandas_Code.ipynb\" target=\"_parent\"><img src=\"https://colab.research.google.com/assets/colab-badge.svg\" alt=\"Open In Colab\"/></a>"
      ]
    },
    {
      "cell_type": "code",
      "source": [
        "import numpy as np\n",
        "import pandas as pd"
      ],
      "metadata": {
        "id": "t_glTuYlE3JU"
      },
      "execution_count": 8,
      "outputs": []
    },
    {
      "cell_type": "code",
      "execution_count": 9,
      "metadata": {
        "id": "Jpp2yp7REZtA"
      },
      "outputs": [],
      "source": [
        "def get_data(size= 5000):\n",
        "    df = pd.DataFrame()\n",
        "    size = 5000\n",
        "    df['age'] = np.random.randint(0,80,size)\n",
        "    df['favorite_food'] = np.random.choice(['pizza','ice-cream','burger','rice'], size)\n",
        "    df['hate_food'] = np.random.choice(['milk','vegetables','eggs'])\n",
        "    return df"
      ]
    },
    {
      "cell_type": "code",
      "source": [
        "df = get_data()\n",
        "df.head()"
      ],
      "metadata": {
        "colab": {
          "base_uri": "https://localhost:8080/",
          "height": 206
        },
        "id": "3eVmaIU3Ew7i",
        "outputId": "0493eac7-f292-47b2-c40c-7b2e8d2a97d8"
      },
      "execution_count": 4,
      "outputs": [
        {
          "output_type": "execute_result",
          "data": {
            "text/plain": [
              "   age favorite_food hate_food\n",
              "0   37         pizza      milk\n",
              "1   75          rice      milk\n",
              "2    1         pizza      milk\n",
              "3   38        burger      milk\n",
              "4   32     ice-cream      milk"
            ],
            "text/html": [
              "\n",
              "  <div id=\"df-dceb3b2f-f389-4e81-896a-1ffbd9c4947a\">\n",
              "    <div class=\"colab-df-container\">\n",
              "      <div>\n",
              "<style scoped>\n",
              "    .dataframe tbody tr th:only-of-type {\n",
              "        vertical-align: middle;\n",
              "    }\n",
              "\n",
              "    .dataframe tbody tr th {\n",
              "        vertical-align: top;\n",
              "    }\n",
              "\n",
              "    .dataframe thead th {\n",
              "        text-align: right;\n",
              "    }\n",
              "</style>\n",
              "<table border=\"1\" class=\"dataframe\">\n",
              "  <thead>\n",
              "    <tr style=\"text-align: right;\">\n",
              "      <th></th>\n",
              "      <th>age</th>\n",
              "      <th>favorite_food</th>\n",
              "      <th>hate_food</th>\n",
              "    </tr>\n",
              "  </thead>\n",
              "  <tbody>\n",
              "    <tr>\n",
              "      <th>0</th>\n",
              "      <td>37</td>\n",
              "      <td>pizza</td>\n",
              "      <td>milk</td>\n",
              "    </tr>\n",
              "    <tr>\n",
              "      <th>1</th>\n",
              "      <td>75</td>\n",
              "      <td>rice</td>\n",
              "      <td>milk</td>\n",
              "    </tr>\n",
              "    <tr>\n",
              "      <th>2</th>\n",
              "      <td>1</td>\n",
              "      <td>pizza</td>\n",
              "      <td>milk</td>\n",
              "    </tr>\n",
              "    <tr>\n",
              "      <th>3</th>\n",
              "      <td>38</td>\n",
              "      <td>burger</td>\n",
              "      <td>milk</td>\n",
              "    </tr>\n",
              "    <tr>\n",
              "      <th>4</th>\n",
              "      <td>32</td>\n",
              "      <td>ice-cream</td>\n",
              "      <td>milk</td>\n",
              "    </tr>\n",
              "  </tbody>\n",
              "</table>\n",
              "</div>\n",
              "      <button class=\"colab-df-convert\" onclick=\"convertToInteractive('df-dceb3b2f-f389-4e81-896a-1ffbd9c4947a')\"\n",
              "              title=\"Convert this dataframe to an interactive table.\"\n",
              "              style=\"display:none;\">\n",
              "        \n",
              "  <svg xmlns=\"http://www.w3.org/2000/svg\" height=\"24px\"viewBox=\"0 0 24 24\"\n",
              "       width=\"24px\">\n",
              "    <path d=\"M0 0h24v24H0V0z\" fill=\"none\"/>\n",
              "    <path d=\"M18.56 5.44l.94 2.06.94-2.06 2.06-.94-2.06-.94-.94-2.06-.94 2.06-2.06.94zm-11 1L8.5 8.5l.94-2.06 2.06-.94-2.06-.94L8.5 2.5l-.94 2.06-2.06.94zm10 10l.94 2.06.94-2.06 2.06-.94-2.06-.94-.94-2.06-.94 2.06-2.06.94z\"/><path d=\"M17.41 7.96l-1.37-1.37c-.4-.4-.92-.59-1.43-.59-.52 0-1.04.2-1.43.59L10.3 9.45l-7.72 7.72c-.78.78-.78 2.05 0 2.83L4 21.41c.39.39.9.59 1.41.59.51 0 1.02-.2 1.41-.59l7.78-7.78 2.81-2.81c.8-.78.8-2.07 0-2.86zM5.41 20L4 18.59l7.72-7.72 1.47 1.35L5.41 20z\"/>\n",
              "  </svg>\n",
              "      </button>\n",
              "      \n",
              "  <style>\n",
              "    .colab-df-container {\n",
              "      display:flex;\n",
              "      flex-wrap:wrap;\n",
              "      gap: 12px;\n",
              "    }\n",
              "\n",
              "    .colab-df-convert {\n",
              "      background-color: #E8F0FE;\n",
              "      border: none;\n",
              "      border-radius: 50%;\n",
              "      cursor: pointer;\n",
              "      display: none;\n",
              "      fill: #1967D2;\n",
              "      height: 32px;\n",
              "      padding: 0 0 0 0;\n",
              "      width: 32px;\n",
              "    }\n",
              "\n",
              "    .colab-df-convert:hover {\n",
              "      background-color: #E2EBFA;\n",
              "      box-shadow: 0px 1px 2px rgba(60, 64, 67, 0.3), 0px 1px 3px 1px rgba(60, 64, 67, 0.15);\n",
              "      fill: #174EA6;\n",
              "    }\n",
              "\n",
              "    [theme=dark] .colab-df-convert {\n",
              "      background-color: #3B4455;\n",
              "      fill: #D2E3FC;\n",
              "    }\n",
              "\n",
              "    [theme=dark] .colab-df-convert:hover {\n",
              "      background-color: #434B5C;\n",
              "      box-shadow: 0px 1px 3px 1px rgba(0, 0, 0, 0.15);\n",
              "      filter: drop-shadow(0px 1px 2px rgba(0, 0, 0, 0.3));\n",
              "      fill: #FFFFFF;\n",
              "    }\n",
              "  </style>\n",
              "\n",
              "      <script>\n",
              "        const buttonEl =\n",
              "          document.querySelector('#df-dceb3b2f-f389-4e81-896a-1ffbd9c4947a button.colab-df-convert');\n",
              "        buttonEl.style.display =\n",
              "          google.colab.kernel.accessAllowed ? 'block' : 'none';\n",
              "\n",
              "        async function convertToInteractive(key) {\n",
              "          const element = document.querySelector('#df-dceb3b2f-f389-4e81-896a-1ffbd9c4947a');\n",
              "          const dataTable =\n",
              "            await google.colab.kernel.invokeFunction('convertToInteractive',\n",
              "                                                     [key], {});\n",
              "          if (!dataTable) return;\n",
              "\n",
              "          const docLinkHtml = 'Like what you see? Visit the ' +\n",
              "            '<a target=\"_blank\" href=https://colab.research.google.com/notebooks/data_table.ipynb>data table notebook</a>'\n",
              "            + ' to learn more about interactive tables.';\n",
              "          element.innerHTML = '';\n",
              "          dataTable['output_type'] = 'display_data';\n",
              "          await google.colab.output.renderOutput(dataTable, element);\n",
              "          const docLink = document.createElement('div');\n",
              "          docLink.innerHTML = docLinkHtml;\n",
              "          element.appendChild(docLink);\n",
              "        }\n",
              "      </script>\n",
              "    </div>\n",
              "  </div>\n",
              "  "
            ]
          },
          "metadata": {},
          "execution_count": 4
        }
      ]
    },
    {
      "cell_type": "markdown",
      "source": [],
      "metadata": {
        "id": "twtD4ndeFOLE"
      }
    },
    {
      "cell_type": "markdown",
      "source": [
        "The task we will work on is a reward calculation based on the following measures:\n",
        "\n",
        "If If they are over 90 years old , we will give them their favorite food.\n",
        "Otherwise, we give them their hate food\n"
      ],
      "metadata": {
        "id": "Pic2aqJVFVcx"
      }
    },
    {
      "cell_type": "markdown",
      "source": [
        "###Task Calculation"
      ],
      "metadata": {
        "id": "3a9Pv7GXYJ6s"
      }
    },
    {
      "cell_type": "code",
      "source": [
        "def reward_cal(row):\n",
        "    if row['age'] >=90:\n",
        "        return row['favorite_food'] \n",
        "    else :\n",
        "        return row['hate_food']"
      ],
      "metadata": {
        "id": "0ynu4fRSFQCj"
      },
      "execution_count": 10,
      "outputs": []
    },
    {
      "cell_type": "markdown",
      "source": [
        "##Methods"
      ],
      "metadata": {
        "id": "hIIh6t0yYVkE"
      }
    },
    {
      "cell_type": "markdown",
      "source": [],
      "metadata": {
        "id": "vTsjASQJYSKV"
      }
    },
    {
      "cell_type": "markdown",
      "source": [
        "###Level 1: Loops"
      ],
      "metadata": {
        "id": "OCnLAaRRGJnb"
      }
    },
    {
      "cell_type": "code",
      "source": [
        "%%timeit\n",
        "for index, row in df.iterrows():\n",
        "   df.loc[index,'reward'] = reward_cal(row)"
      ],
      "metadata": {
        "colab": {
          "base_uri": "https://localhost:8080/"
        },
        "id": "BKJ2sunkFkJS",
        "outputId": "9aeffd84-8b2b-41ea-c681-7980ae796b96"
      },
      "execution_count": 11,
      "outputs": [
        {
          "output_type": "stream",
          "name": "stdout",
          "text": [
            "22.2 s ± 371 ms per loop (mean ± std. dev. of 7 runs, 1 loop each)\n"
          ]
        }
      ]
    },
    {
      "cell_type": "markdown",
      "source": [
        "###Level 2: Apply Function"
      ],
      "metadata": {
        "id": "f2EN4TacF1vJ"
      }
    },
    {
      "cell_type": "code",
      "source": [
        "%%timeit\n",
        "df['reward'] = df.apply(reward_cal, axis = 1)"
      ],
      "metadata": {
        "colab": {
          "base_uri": "https://localhost:8080/"
        },
        "id": "NIKjqpiMGBuX",
        "outputId": "4228830d-46fd-4314-e847-0508b9a78c9a"
      },
      "execution_count": 12,
      "outputs": [
        {
          "output_type": "stream",
          "name": "stdout",
          "text": [
            "413 ms ± 9.23 ms per loop (mean ± std. dev. of 7 runs, 1 loop each)\n"
          ]
        }
      ]
    },
    {
      "cell_type": "markdown",
      "source": [
        "###Level3: Vectorization\n"
      ],
      "metadata": {
        "id": "hqF6c2fsGMkh"
      }
    },
    {
      "cell_type": "code",
      "source": [
        "%%timeit\n",
        "df['reward'] = df['hate_food']\n",
        "df.loc[(df['age']>90), 'reward'] = df['favorite_food']"
      ],
      "metadata": {
        "colab": {
          "base_uri": "https://localhost:8080/"
        },
        "id": "Fy_PaOvBG7Hr",
        "outputId": "ab01b4ed-8387-4ef0-b1d4-5d144677f609"
      },
      "execution_count": 14,
      "outputs": [
        {
          "output_type": "stream",
          "name": "stdout",
          "text": [
            "688 µs ± 17.9 µs per loop (mean ± std. dev. of 7 runs, 1000 loops each)\n"
          ]
        }
      ]
    },
    {
      "cell_type": "markdown",
      "source": [
        "##Measuring the Difference"
      ],
      "metadata": {
        "id": "9o7MyUDFXPLJ"
      }
    },
    {
      "cell_type": "code",
      "source": [
        "results = pd.DataFrame(\n",
        "    [\n",
        "        [\"Loop\", 22200],\n",
        "        [\"apply\", 413],\n",
        "        ['vectorized', 0.688]\n",
        "        \n",
        "    ],\n",
        "    columns = ['method', 'run_time']\n",
        "\n",
        ")\n",
        "\n",
        "results.set_index('method')['run_time'].plot(kind='bar')"
      ],
      "metadata": {
        "colab": {
          "base_uri": "https://localhost:8080/",
          "height": 339
        },
        "id": "XFOw8jkfXThq",
        "outputId": "170582d6-d4df-4336-8830-41d174214db3"
      },
      "execution_count": 16,
      "outputs": [
        {
          "output_type": "execute_result",
          "data": {
            "text/plain": [
              "<matplotlib.axes._subplots.AxesSubplot at 0x7fc1a3a6b850>"
            ]
          },
          "metadata": {},
          "execution_count": 16
        },
        {
          "output_type": "display_data",
          "data": {
            "text/plain": [
              "<Figure size 432x288 with 1 Axes>"
            ],
            "image/png": "[encoded data removed]"
          },
          "metadata": {
            "needs_background": "light"
          }
        }
      ]
    }
  ]
}